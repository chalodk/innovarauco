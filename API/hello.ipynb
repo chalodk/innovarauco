{
 "cells": [
  {
   "cell_type": "code",
   "execution_count": 1,
   "metadata": {},
   "outputs": [],
   "source": [
    "from flask import Flask\n",
    "app = Flask(__name__)\n",
    "\n",
    "@app.route(\"/\")\n",
    "def hello_world():\n",
    "    return \"Hello, World!\""
   ]
  },
  {
   "cell_type": "code",
   "execution_count": 37,
   "metadata": {
    "scrolled": false
   },
   "outputs": [
    {
     "data": {
      "text/plain": [
       "'C:\\\\Documents\\\\InnovArauco\\\\API\\\\hello.py'"
      ]
     },
     "execution_count": 37,
     "metadata": {},
     "output_type": "execute_result"
    }
   ],
   "source": [
    "from flask import Flask, jsonify, request\n",
    "\n",
    "app = Flask(__name__)\n",
    "\n",
    "# Parámetros de costos\n",
    "\n",
    "params = {} # diccionario \n",
    "\n",
    "# Recibo nuevo Json de parámetros\n",
    "\n",
    "set_params_json = []\n",
    "\n",
    "@app.route('/precio', methods=['POST'])\n",
    "def insertar_parametros():\n",
    "    set_params_json[0]= request.get_json()\n",
    "    return '', 204\n",
    "\n",
    "## Capturo parámetros y calculo precio final\n",
    "\n",
    "precio = [] # listad de costos (multiplicacion de parámetros) y costo de packaging\n",
    "\n",
    "\n",
    "##############################################################################################################################\n",
    "# Función de cálculo de precios##############################################################################################################################\n",
    "\n",
    "def calculo_precio(costs,values,price):\n",
    "    \n",
    "    for i in list(values[0].keys()):\n",
    "        try:\n",
    "            price.append(values[0][i]*costs[i])  #agrego a lista el \"precio\" de cada uno de los costos asociados a los valores de las variables del producto\n",
    "        except ValueError: \n",
    "            'Parámetro'+''+i+''+'No se encuentra'\n",
    "    return sum(price)\n",
    "##############################################################################################################################\n",
    "\n",
    "# Precio final\n",
    "       \n",
    "p_final = {'Precio actual':calculo_precio(params,set_params_json,precio)}\n",
    "\n",
    "\n",
    "# Precio final a Json y Atender HTTP GET \n",
    "\n",
    "@app.route('/precio', methods = ['GET'])\n",
    "def get_incomes():\n",
    "    return jsonify(p_final)\n",
    "\n"
   ]
  },
  {
   "cell_type": "code",
   "execution_count": 80,
   "metadata": {},
   "outputs": [
    {
     "name": "stdout",
     "output_type": "stream",
     "text": [
      "{'precio': 9}\n"
     ]
    }
   ],
   "source": [
    "def kk (param):\n",
    "    aux = []\n",
    "    for i in list(param.keys()):\n",
    "        aux.append(param[i])\n",
    "    return sum(aux)\n",
    "\n",
    "params = {'ee':4, 'sds':5}\n",
    "\n",
    "\n",
    "jj = {'precio': kk(params)}\n",
    "print(jj)"
   ]
  }
 ],
 "metadata": {
  "kernelspec": {
   "display_name": "Python 3",
   "language": "python",
   "name": "python3"
  },
  "language_info": {
   "codemirror_mode": {
    "name": "ipython",
    "version": 3
   },
   "file_extension": ".py",
   "mimetype": "text/x-python",
   "name": "python",
   "nbconvert_exporter": "python",
   "pygments_lexer": "ipython3",
   "version": "3.6.4"
  }
 },
 "nbformat": 4,
 "nbformat_minor": 2
}
